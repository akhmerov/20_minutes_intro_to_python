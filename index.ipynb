{
 "cells": [
  {
   "cell_type": "markdown",
   "metadata": {},
   "source": [
    "# Introduction to programming in Python\n",
    "\n",
    "### Learning goals:\n",
    "* Solve simple problems that a human cannot solve manually\n",
    "* Use basic programming constants\n",
    "* Formulate questions and find answers by googling\n",
    "\n",
    "### The big problem to solve:\n",
    "\n",
    "We're going to solve this problem (problem \\#1 from https://projecteuler.net/):\n",
    "\n",
    "> If we list all the natural numbers below 10 that are multiples of 3 or 5, we get 3, 5, 6 and 9. The sum of these multiples is 23.\n",
    "\n",
    "> Find the sum of all the multiples of 3 or 5 below 1000."
   ]
  },
  {
   "cell_type": "markdown",
   "metadata": {},
   "source": [
    "## Programming languages\n",
    "\n",
    "Programming is just writing instructions for computer.\n",
    "We're going to choose Python as the programming language to write these instructions. Here's why:\n",
    "\n",
    "![](https://imgs.xkcd.com/comics/python.png)\n",
    "\n",
    "(CC-BY-NC 2.5, Randall Munroe, xkcd.com/353)\n",
    "\n",
    "### Executing instructions\n",
    "\n",
    "Let's try our first instruction, a classic example:"
   ]
  },
  {
   "cell_type": "code",
   "execution_count": null,
   "metadata": {
    "collapsed": true
   },
   "outputs": [],
   "source": [
    "print(\"Hello world!\")  # Press Shift+Enter to execute this cell, or the \"forward button\" at the top panel"
   ]
  },
  {
   "cell_type": "markdown",
   "metadata": {},
   "source": [
    "Here `print` is a function, `\"Hello world!\"` is its argument, and the function is an instruction to print the argument.\n",
    "\n",
    "**First exercise**: in the empty cell below print two different things (BTW, you can also print a number, numbers will be useful to us later)."
   ]
  },
  {
   "cell_type": "code",
   "execution_count": null,
   "metadata": {
    "collapsed": true
   },
   "outputs": [],
   "source": []
  },
  {
   "cell_type": "markdown",
   "metadata": {},
   "source": [
    "### Variables\n",
    "\n",
    "For solving the problem we'll need to use *variables*, these are like labels for things to be stored in computer memory.\n",
    "\n",
    "So we create a variable named `x`, and instruct computer to store a value 1 in it:"
   ]
  },
  {
   "cell_type": "code",
   "execution_count": null,
   "metadata": {
    "collapsed": true
   },
   "outputs": [],
   "source": [
    "x = 1\n",
    "print(x)"
   ]
  },
  {
   "cell_type": "markdown",
   "metadata": {},
   "source": [
    "**Second exercise**: Using the cell below\n",
    "* Set the value of `y` to be `x + 1`. Check what happens to the value of `x` after that.\n",
    "* Set the value of `x` to be equal to `y`."
   ]
  },
  {
   "cell_type": "code",
   "execution_count": null,
   "metadata": {
    "collapsed": true
   },
   "outputs": [],
   "source": []
  },
  {
   "cell_type": "markdown",
   "metadata": {},
   "source": [
    "### Conditions\n",
    "\n",
    "For the program to be non-trivial, we need to issue instructions that depend on previous ones, so we need *conditional statements*. Try to guess what the next lines will do. Check your guess."
   ]
  },
  {
   "cell_type": "code",
   "execution_count": null,
   "metadata": {
    "collapsed": true
   },
   "outputs": [],
   "source": [
    "x = 5\n",
    "if x < 4:\n",
    "    print(\"Smaller.\")\n",
    "else:\n",
    "    print(\"Larger.\")"
   ]
  },
  {
   "cell_type": "markdown",
   "metadata": {},
   "source": [
    "A couple of remarks about the syntax: as you see, the condition lines end with `:`, and the lines that describe the instructions of what to do in each case are indented by 4 spaces. These are just the rules, follow them.\n",
    "\n",
    "**Third exercise**:\n",
    "* What happens if you assign the value `(x < 4)` to `y`, what will printing `y` give?\n",
    "* Can you check if x is one of the following: either smaller than 4 or larger than 10? How would you do it?"
   ]
  },
  {
   "cell_type": "code",
   "execution_count": null,
   "metadata": {
    "collapsed": true
   },
   "outputs": [],
   "source": []
  },
  {
   "cell_type": "markdown",
   "metadata": {},
   "source": [
    "### Loops\n",
    "\n",
    "We're almost set to solve the big problem. There we need to perform an action (check divisibility) for a bunch of numbers. Doing something many times is called a loop, let's try one of those."
   ]
  },
  {
   "cell_type": "code",
   "execution_count": null,
   "metadata": {
    "collapsed": true
   },
   "outputs": [],
   "source": [
    "for x in range(10):\n",
    "    print(x)"
   ]
  },
  {
   "cell_type": "markdown",
   "metadata": {},
   "source": [
    "Observe that the values of `x` start from 0, and end with 9.\n",
    "\n",
    "**Fourth exercise**:  \n",
    "Calculate a sum of all integers smaller than 10."
   ]
  },
  {
   "cell_type": "markdown",
   "metadata": {},
   "source": [
    "### Now let's solve the problem!\n",
    "\n",
    "As a first step, we're missing a piece. How do we check if `x` is divisible by 3? Do you know the answer? If I wasn't here, how would you figure it out?\n",
    "\n",
    "Now, having all the tools available, combine them to solve the problem.\n",
    "\n",
    "When searching for error, use *tests*. Is there anything in the problem description that can help you check if your code is correct?"
   ]
  },
  {
   "cell_type": "code",
   "execution_count": null,
   "metadata": {
    "collapsed": true
   },
   "outputs": [],
   "source": []
  }
 ],
 "metadata": {
  "kernelspec": {
   "display_name": "Python 3",
   "language": "python",
   "name": "python3"
  },
  "language_info": {
   "codemirror_mode": {
    "name": "ipython",
    "version": 3
   },
   "file_extension": ".py",
   "mimetype": "text/x-python",
   "name": "python",
   "nbconvert_exporter": "python",
   "pygments_lexer": "ipython3",
   "version": "3.4.3+"
  }
 },
 "nbformat": 4,
 "nbformat_minor": 0
}
